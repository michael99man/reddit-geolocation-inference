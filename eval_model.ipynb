{
 "cells": [
  {
   "cell_type": "code",
   "execution_count": 102,
   "metadata": {},
   "outputs": [],
   "source": [
    "import pandas as pd\n",
    "import numpy as np\n",
    "\n",
    "import collections\n",
    "import torch\n",
    "import pickle\n",
    "import time\n",
    "import json\n",
    "import torch.nn as nn\n",
    "import matplotlib.pyplot as plt\n",
    "import torch.nn.functional as F\n",
    "from  gensim.models import KeyedVectors\n",
    "from featurization import word2vec, featurizer\n",
    "import model as m\n",
    "from featurizer import ChungusSet \n",
    "from torch.utils.data import DataLoader\n",
    "import geopy\n",
    "from geopy.distance import geodesic\n",
    "import constants\n",
    "from torch.utils.data import Dataset"
   ]
  },
  {
   "cell_type": "code",
   "execution_count": 2,
   "metadata": {},
   "outputs": [
    {
     "name": "stderr",
     "output_type": "stream",
     "text": [
      "INFO - 01:45:32: loading projection weights from ./models/word2vec.model\n",
      "INFO - 01:46:10: loaded (126352, 300) matrix from ./models/word2vec.model\n"
     ]
    }
   ],
   "source": [
    "# load word embeddings\n",
    "def load_embedding():\n",
    "    # load word2vec weights\n",
    "    EpochSaver = word2vec.EpochSaver\n",
    "    w2v = KeyedVectors.load_word2vec_format('./models/word2vec.model')\n",
    "\n",
    "    weights = torch.FloatTensor(w2v.vectors)\n",
    "    embedding = nn.Embedding.from_pretrained(weights)\n",
    "\n",
    "    return embedding\n",
    "\n",
    "embedding = load_embedding()"
   ]
  },
  {
   "cell_type": "code",
   "execution_count": 20,
   "metadata": {},
   "outputs": [],
   "source": [
    "# load model\n",
    "path = \"epoch_74.model\"\n",
    "model = m.Classifier(embedding)\n",
    "model = nn.DataParallel(model, device_ids=[0,1,2,3,4,5,6,7])\n",
    "checkpoint = torch.load(path)\n",
    "model.load_state_dict(checkpoint['state_dict'])\n",
    "model = model.to(\"cuda:0\")\n",
    "batch_size = 256"
   ]
  },
  {
   "cell_type": "code",
   "execution_count": 33,
   "metadata": {
    "scrolled": true
   },
   "outputs": [],
   "source": [
    "def evaluate_model(model):\n",
    "    test_set = pickle.load(open(\"data/test_set.p\", \"rb\"))\n",
    "    test_loader = DataLoader(dataset=test_set, batch_size=batch_size, shuffle=True,num_workers=30, drop_last=True)\n",
    "    print(\"Test set of %d entries\" % len(test_set))\n",
    "    \n",
    "    y_pred = []\n",
    "    l = []\n",
    "    \n",
    "    err=0\n",
    "    tot = 0\n",
    "    with torch.no_grad():\n",
    "        i = 0\n",
    "        for (words, subs, times, labels) in test_loader:\n",
    "            # remove subs, see how model does\n",
    "            # subs = torch.zeros(batch_size, 5000)   \n",
    "            \n",
    "            output = model(words, subs, times, labels)\n",
    "            \n",
    "            print(output.size())\n",
    "            # let the maximum index be our predicted class\n",
    "            _, yh = torch.max(output, 1)\n",
    "            \n",
    "            l += list(labels)\n",
    "            y_pred += output.tolist()\n",
    "            \n",
    "            tot += labels.size(0)\n",
    "            \n",
    "            i+=1\n",
    "            if(i % 10 == 0):\n",
    "                print(\"Iteration: %d, processed %d labels\" % (i, tot))\n",
    "                print(labels.size())\n",
    "            \n",
    "            ## add to err number of missclassification, i.e. number of indices that\n",
    "            ## yh and y are not equal\n",
    "            ## note that y and yh are vectors of size = batch_size = (256 in our case)\n",
    "            err += sum(list(map(lambda i: 1 if labels[i] != yh[i] else 0, range(len(labels)))))\n",
    "\n",
    "    print('Accuracy of FC prediction on test users: %5.2f%%' % (100-100 * err / tot))\n",
    "    \n",
    "    return (y_pred, l)"
   ]
  },
  {
   "cell_type": "code",
   "execution_count": 34,
   "metadata": {
    "scrolled": true
   },
   "outputs": [
    {
     "name": "stdout",
     "output_type": "stream",
     "text": [
      "Test set of 10755 entries\n",
      "torch.Size([256, 51])\n",
      "torch.Size([256, 51])\n",
      "torch.Size([256, 51])\n",
      "torch.Size([256, 51])\n",
      "torch.Size([256, 51])\n",
      "torch.Size([256, 51])\n",
      "torch.Size([256, 51])\n",
      "torch.Size([256, 51])\n",
      "torch.Size([256, 51])\n",
      "torch.Size([256, 51])\n",
      "Iteration: 10, processed 2560 labels\n",
      "torch.Size([256])\n",
      "torch.Size([256, 51])\n",
      "torch.Size([256, 51])\n",
      "torch.Size([256, 51])\n",
      "torch.Size([256, 51])\n",
      "torch.Size([256, 51])\n",
      "torch.Size([256, 51])\n",
      "torch.Size([256, 51])\n",
      "torch.Size([256, 51])\n",
      "torch.Size([256, 51])\n",
      "torch.Size([256, 51])\n",
      "Iteration: 20, processed 5120 labels\n",
      "torch.Size([256])\n",
      "torch.Size([256, 51])\n",
      "torch.Size([256, 51])\n",
      "torch.Size([256, 51])\n",
      "torch.Size([256, 51])\n",
      "torch.Size([256, 51])\n",
      "torch.Size([256, 51])\n",
      "torch.Size([256, 51])\n",
      "torch.Size([256, 51])\n",
      "torch.Size([256, 51])\n",
      "torch.Size([256, 51])\n",
      "Iteration: 30, processed 7680 labels\n",
      "torch.Size([256])\n",
      "torch.Size([256, 51])\n",
      "torch.Size([256, 51])\n",
      "torch.Size([256, 51])\n",
      "torch.Size([256, 51])\n",
      "torch.Size([256, 51])\n",
      "torch.Size([256, 51])\n",
      "torch.Size([256, 51])\n",
      "torch.Size([256, 51])\n",
      "torch.Size([256, 51])\n",
      "torch.Size([256, 51])\n",
      "Iteration: 40, processed 10240 labels\n",
      "torch.Size([256])\n",
      "torch.Size([256, 51])\n",
      "torch.Size([256, 51])\n",
      "Accuracy of FC prediction on test users: 59.75%\n"
     ]
    }
   ],
   "source": [
    "y_pred, l = evaluate_model(model)"
   ]
  },
  {
   "cell_type": "code",
   "execution_count": 65,
   "metadata": {},
   "outputs": [
    {
     "name": "stdout",
     "output_type": "stream",
     "text": [
      "10752\n",
      "10752\n"
     ]
    }
   ],
   "source": [
    "print(len(y_pred))\n",
    "print(len(l))\n",
    "\n",
    "def maxN(elements, n):\n",
    "    return sorted(elements, reverse=True)[:n]\n",
    "\n",
    "tops = np.zeros(51)\n",
    "\n",
    "for i in range(len(y_pred)):\n",
    "    p = y_pred[i]\n",
    "    label = l[i].item()\n",
    "    \n",
    "    # sort indices to get most common state\n",
    "    indices = list(range(len(p)))\n",
    "    indices.sort(key = lambda i: p[i], reverse=True)\n",
    "    \n",
    "    # get position of this index\n",
    "    pos = indices.index(label)\n",
    "    # increment everything at pos and after\n",
    "    for j in range(pos, 51):\n",
    "        tops[j] +=1\n",
    "    "
   ]
  },
  {
   "cell_type": "code",
   "execution_count": 96,
   "metadata": {},
   "outputs": [
    {
     "name": "stdout",
     "output_type": "stream",
     "text": [
      "[ 6424.  7453.  7914.  8198.  8389.  8538.  8684.  8798.  8924.  9028.\n",
      "  9118.  9201.  9279.  9351.  9413.  9497.  9562.  9615.  9665.  9719.\n",
      "  9758.  9817.  9860.  9902.  9944.  9994. 10035. 10085. 10121. 10172.\n",
      " 10215. 10246. 10277. 10308. 10337. 10367. 10403. 10439. 10468. 10497.\n",
      " 10528. 10549. 10585. 10603. 10623. 10646. 10665. 10683. 10705. 10736.\n",
      " 10752.]\n",
      "[0, 0.5974702380952381, 0.6931733630952381, 0.7360491071428571, 0.7624627976190477, 0.7802269345238095, 0.7940848214285714, 0.8076636904761905, 0.8182663690476191, 0.8299851190476191, 0.8396577380952381, 0.8480282738095238, 0.8557477678571429, 0.8630022321428571, 0.8696986607142857, 0.8754650297619048, 0.8832775297619048, 0.8893229166666666, 0.8942522321428571, 0.8989025297619048, 0.9039248511904762, 0.9075520833333334, 0.9130394345238095, 0.9170386904761905, 0.9209449404761905, 0.9248511904761905, 0.9295014880952381, 0.9333147321428571, 0.9379650297619048, 0.9413132440476191, 0.9460565476190477, 0.9500558035714286, 0.9529389880952381, 0.9558221726190477, 0.9587053571428571, 0.9614025297619048, 0.9641927083333334, 0.9675409226190477, 0.9708891369047619, 0.9735863095238095, 0.9762834821428571, 0.9791666666666666, 0.9811197916666666, 0.9844680059523809, 0.9861421130952381, 0.9880022321428571, 0.9901413690476191, 0.9919084821428571, 0.9935825892857143, 0.9956287202380952, 0.9985119047619048, 1.0]\n",
      "52 52\n"
     ]
    },
    {
     "data": {
      "image/png": "[encoded data removed]",
      "text/plain": [
       "<Figure size 504x360 with 1 Axes>"
      ]
     },
     "metadata": {
      "needs_background": "light"
     },
     "output_type": "display_data"
    }
   ],
   "source": [
    "print(tops)\n",
    "\n",
    "frac_tops = [0]\n",
    "frac_tops.extend(tops/len(l))\n",
    "print(frac_tops)\n",
    "\n",
    "plt.rcParams['figure.figsize'] = [7, 5]\n",
    "plt.rcParams.update({'font.size': 12})\n",
    "\n",
    "print(len(frac_tops), len(range(0,52)))\n",
    "plt.plot(range(0,52), frac_tops)\n",
    "plt.ylabel(\"Proportion of test set\")\n",
    "plt.xlabel(\"Correct state in top x\")\n",
    "plt.yticks(np.arange(0, 1.1, 0.1)) \n",
    "plt.show()"
   ]
  },
  {
   "cell_type": "code",
   "execution_count": 114,
   "metadata": {},
   "outputs": [
    {
     "name": "stdout",
     "output_type": "stream",
     "text": [
      "{'Alaska': (64.4459613, -149.680909), 'Alabama': (33.2588817, -86.8295337), 'Arkansas': (35.2048883, -92.4479108), 'Arizona': (34.395342, -111.7632755), 'California': (36.7014631, -118.7559974), 'Colorado': (38.7251776, -105.6077167), 'Connecticut': (41.6500201, -72.7342163), 'District of Columbia': (38.89379365, -76.98799757261312), 'Delaware': (38.6920451, -75.4013315), 'Florida': (27.7567667, -81.4639835), 'Georgia': (32.3293809, -83.1137366), 'Hawaii': (19.58726775, -155.42688965312746), 'Iowa': (41.9216734, -93.3122705), 'Idaho': (43.6447642, -114.0154071), 'Illinois': (40.0796606, -89.4337288), 'Indiana': (40.3270127, -86.1746933), 'Kansas': (38.27312, -98.5821872), 'Kentucky': (37.5726028, -85.1551411), 'Louisiana': (30.8703881, -92.007126), 'Massachusetts': (42.3788774, -72.032366), 'Maryland': (39.5162234, -76.9382069), 'Maine': (45.709097, -68.8590201), 'Michigan': (43.6211955, -84.6824346), 'Minnesota': (45.9896587, -94.6113288), 'Missouri': (38.7604815, -92.5617875), 'Mississippi': (32.9715645, -89.7348497), 'Montana': (47.3752671, -109.6387579), 'North Carolina': (35.6729639, -79.0392919), 'North Dakota': (47.6201461, -100.540737), 'Nebraska': (41.7370229, -99.5873816), 'New Hampshire': (43.4849133, -71.6553992), 'New Jersey': (40.0757384, -74.4041622), 'New Mexico': (34.5708167, -105.993007), 'Nevada': (39.5158825, -116.8537227), 'New York': (40.7127281, -74.0060152), 'Ohio': (40.2253569, -82.6881395), 'Oklahoma': (34.9550817, -97.2684063), 'Oregon': (43.9792797, -120.737257), 'Pennsylvania': (40.9699889, -77.7278831), 'Rhode Island': (41.7962409, -71.5992372), 'South Carolina': (33.6874388, -80.4363743), 'South Dakota': (44.6471761, -100.348761), 'Tennessee': (35.7730076, -86.2820081), 'Texas': (31.8160381, -99.5120986), 'Utah': (39.4225192, -111.7143584), 'Virginia': (37.1232245, -78.4927721), 'Vermont': (44.5990718, -72.5002608), 'Washington': (38.8949924, -77.0365581), 'Wisconsin': (44.4308975, -89.6884637), 'West Virginia': (38.4758406, -80.8408415), 'Wyoming': (43.1700264, -107.5685348)}\n",
      "Average distance error of 386.535430\n"
     ]
    }
   ],
   "source": [
    "# mean error dist\n",
    "\n",
    "center_dict = pickle.load(open(\"center_dict.p\", \"rb\"))\n",
    "print(center_dict)\n",
    "\n",
    "\n",
    "cali_preds = []\n",
    "ind_preds = []\n",
    "\n",
    "errs = []\n",
    "\n",
    "total_dist = 0\n",
    "for i in range(len(y_pred)):\n",
    "    pred_state = np.argmax(y_pred[i])\n",
    "    label = l[i].item()\n",
    "        \n",
    "    pred_coord = center_dict[constants.states[pred_state]]\n",
    "    act_coord = center_dict[constants.states[label]]\n",
    "    \n",
    "    if(constants.states[label] == \"California\"):\n",
    "        cali_preds.append(constants.states[pred_state])\n",
    "    elif(constants.states[label] == \"Indiana\"):\n",
    "        ind_preds.append(constants.states[pred_state])\n",
    "    \n",
    "    \n",
    "    err = geodesic(pred_coord, act_coord).miles\n",
    "    errs.append(err)\n",
    "    #print(\"Error of %f\" % err)\n",
    "    total_dist += err\n",
    "    \n",
    "print(\"Average distance error of %f\" % (total_dist/len(y_pred)))"
   ]
  },
  {
   "cell_type": "code",
   "execution_count": 136,
   "metadata": {},
   "outputs": [
    {
     "name": "stdout",
     "output_type": "stream",
     "text": [
      "0.0\n"
     ]
    },
    {
     "data": {
      "image/png": "[encoded data removed]",
      "text/plain": [
       "<Figure size 648x504 with 1 Axes>"
      ]
     },
     "metadata": {
      "needs_background": "light"
     },
     "output_type": "display_data"
    }
   ],
   "source": [
    "plt.rcParams['figure.figsize'] = [9, 7]\n",
    "plt.hist(errs, bins = 10)\n",
    "plt.ylabel(\"Count\")\n",
    "plt.xlabel(\"Error distance (miles)\")\n",
    "plt.axvline(np.mean(errs), color='k', linestyle='dashed', linewidth=1)\n",
    "\n",
    "min_ylim, max_ylim = plt.ylim()\n",
    "plt.text(np.mean(errs)*1.5, max_ylim*0.7, 'Mean: {:.2f}'.format(np.mean(errs)))\n",
    "\n",
    "print(np.median(errs))"
   ]
  },
  {
   "cell_type": "code",
   "execution_count": null,
   "metadata": {},
   "outputs": [],
   "source": []
  }
 ],
 "metadata": {
  "kernelspec": {
   "display_name": "PyTorch",
   "language": "python",
   "name": "pytorch_p36"
  },
  "language_info": {
   "codemirror_mode": {
    "name": "ipython",
    "version": 3
   },
   "file_extension": ".py",
   "mimetype": "text/x-python",
   "name": "python",
   "nbconvert_exporter": "python",
   "pygments_lexer": "ipython3",
   "version": "3.6.10"
  }
 },
 "nbformat": 4,
 "nbformat_minor": 4
}
