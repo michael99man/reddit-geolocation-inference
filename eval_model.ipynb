{
 "cells": [
  {
   "cell_type": "code",
   "execution_count": 2,
   "metadata": {},
   "outputs": [],
   "source": [
    "import pandas as pd\n",
    "import numpy as np\n",
    "\n",
    "import collections\n",
    "import torch\n",
    "import pickle\n",
    "import time\n",
    "import json\n",
    "import torch.nn as nn\n",
    "import torch.nn.functional as F\n",
    "from  gensim.models import KeyedVectors\n",
    "from featurization import word2vec, featurizer\n",
    "import model as m\n",
    "from featurizer import ChungusSet \n",
    "from torch.utils.data import DataLoader\n",
    "import geopy\n",
    "from geopy.distance import geodesic\n",
    "from torch.utils.data import Dataset"
   ]
  },
  {
   "cell_type": "code",
   "execution_count": 3,
   "metadata": {},
   "outputs": [
    {
     "name": "stderr",
     "output_type": "stream",
     "text": [
      "INFO - 14:34:25: loading projection weights from ./models/word2vec.model\n",
      "INFO - 14:35:03: loaded (126352, 300) matrix from ./models/word2vec.model\n"
     ]
    }
   ],
   "source": [
    "# load word embeddings\n",
    "def load_embedding():\n",
    "    # load word2vec weights\n",
    "    EpochSaver = word2vec.EpochSaver\n",
    "    w2v = KeyedVectors.load_word2vec_format('./models/word2vec.model')\n",
    "\n",
    "    weights = torch.FloatTensor(w2v.vectors)\n",
    "    embedding = nn.Embedding.from_pretrained(weights)\n",
    "\n",
    "    return embedding\n",
    "\n",
    "embedding = load_embedding()"
   ]
  },
  {
   "cell_type": "code",
   "execution_count": 8,
   "metadata": {},
   "outputs": [],
   "source": [
    "# load model\n",
    "path = \"epoch_26.model\"\n",
    "model = m.Classifier(embedding)\n",
    "model = nn.DataParallel(model, device_ids=[0,1,2,3,4,5,6,7])\n",
    "checkpoint = torch.load(path)\n",
    "model.load_state_dict(checkpoint['state_dict'])\n",
    "model = model.to(\"cuda:0\")\n",
    "batch_size = 256"
   ]
  },
  {
   "cell_type": "code",
   "execution_count": 9,
   "metadata": {
    "scrolled": true
   },
   "outputs": [],
   "source": [
    "def evaluate_model(model):\n",
    "    test_set = pickle.load(open(\"data/test_set.p\", \"rb\"))\n",
    "    test_loader = DataLoader(dataset=test_set, batch_size=batch_size, shuffle=True,num_workers=30, drop_last=True)\n",
    "\n",
    "    err=0\n",
    "    tot = 0\n",
    "    with torch.no_grad():\n",
    "        for (words, subs, times, labels) in test_loader:\n",
    "            # remove subs, see how model does\n",
    "            # subs = torch.zeros(batch_size, 5000)   \n",
    "            \n",
    "            output = model(words, subs, times, labels)\n",
    "        \n",
    "            # let the maximum index be our predicted class\n",
    "            _, yh = torch.max(output, 1)\n",
    "\n",
    "            tot += labels.size(0)\n",
    "\n",
    "            ## add to err number of missclassification, i.e. number of indices that\n",
    "            ## yh and y are not equal\n",
    "            ## note that y and yh are vectors of size = batch_size = (256 in our case)\n",
    "            err += sum(list(map(lambda i: 1 if labels[i] != yh[i] else 0, range(len(labels)))))\n",
    "\n",
    "    print('Accuracy of FC prediction on test users: %5.2f%%' % (100-100 * err / tot))"
   ]
  },
  {
   "cell_type": "code",
   "execution_count": 10,
   "metadata": {},
   "outputs": [
    {
     "name": "stdout",
     "output_type": "stream",
     "text": [
      "Accuracy of FC prediction on test users: 51.68%\n"
     ]
    }
   ],
   "source": [
    "evaluate_model(model)"
   ]
  },
  {
   "cell_type": "code",
   "execution_count": null,
   "metadata": {},
   "outputs": [],
   "source": []
  }
 ],
 "metadata": {
  "kernelspec": {
   "display_name": "PyTorch",
   "language": "python",
   "name": "pytorch_p36"
  },
  "language_info": {
   "codemirror_mode": {
    "name": "ipython",
    "version": 3
   },
   "file_extension": ".py",
   "mimetype": "text/x-python",
   "name": "python",
   "nbconvert_exporter": "python",
   "pygments_lexer": "ipython3",
   "version": "3.6.10"
  }
 },
 "nbformat": 4,
 "nbformat_minor": 4
}
