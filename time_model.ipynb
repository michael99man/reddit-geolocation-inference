{
 "cells": [
  {
   "cell_type": "code",
   "execution_count": 1,
   "metadata": {},
   "outputs": [],
   "source": [
    "from sklearn.linear_model import LogisticRegression\n",
    "import numpy as np\n",
    "import matplotlib.pyplot as plt\n",
    "import pymysql.cursors\n",
    "from timezonefinder import TimezoneFinder\n",
    "import us\n",
    "import json\n",
    "from sklearn.gaussian_process.kernels import RBF\n",
    "from sklearn.svm import SVC\n",
    "from sklearn.gaussian_process import GaussianProcessClassifier\n",
    "from sklearn.metrics import accuracy_score"
   ]
  },
  {
   "cell_type": "code",
   "execution_count": 14,
   "metadata": {},
   "outputs": [
    {
     "name": "stdout",
     "output_type": "stream",
     "text": [
      "{'Alaska': 'AKST', 'Alabama': 'CST', 'Arkansas': 'CST', 'Arizona': 'MST', 'California': 'PST', 'Colorado': 'MST', 'Connecticut': 'EST', 'District of Columbia': 'EST', 'Delaware': 'EST', 'Florida': 'EST', 'Georgia': 'EST', 'Hawaii': 'HST', 'Iowa': 'CST', 'Idaho': 'MST', 'Illinois': 'CST', 'Indiana': 'EST', 'Kansas': 'CST', 'Kentucky': 'EST', 'Louisiana': 'CST', 'Massachusetts': 'EST', 'Maryland': 'EST', 'Maine': 'EST', 'Michigan': 'EST', 'Minnesota': 'CST', 'Missouri': 'CST', 'Mississippi': 'CST', 'Montana': 'MST', 'North Carolina': 'EST', 'North Dakota': 'CST', 'Nebraska': 'CST', 'New Hampshire': 'EST', 'New Jersey': 'EST', 'New Mexico': 'MST', 'Nevada': 'PST', 'New York': 'EST', 'Ohio': 'EST', 'Oklahoma': 'CST', 'Oregon': 'PST', 'Pennsylvania': 'EST', 'Rhode Island': 'EST', 'South Carolina': 'EST', 'South Dakota': 'CST', 'Tennessee': 'CST', 'Texas': 'CST', 'Utah': 'MST', 'Virginia': 'EST', 'Vermont': 'EST', 'Washington': 'PST', 'Wisconsin': 'CST', 'West Virginia': 'EST', 'Wyoming': 'MST'}\n",
      "{'MST', 'HST', 'PST', 'CST', 'EST', 'AKST'}\n"
     ]
    }
   ],
   "source": [
    "states = [\"Alaska\", \"Alabama\", \"Arkansas\", \"Arizona\", \"California\", \"Colorado\", \"Connecticut\", \"District of Columbia\", \"Delaware\", \"Florida\", \"Georgia\", \"Hawaii\", \"Iowa\", \"Idaho\", \"Illinois\", \"Indiana\", \"Kansas\", \"Kentucky\", \"Louisiana\", \"Massachusetts\", \"Maryland\", \"Maine\", \"Michigan\", \"Minnesota\", \"Missouri\", \"Mississippi\", \"Montana\", \"North Carolina\", \"North Dakota\", \"Nebraska\", \"New Hampshire\", \"New Jersey\", \"New Mexico\", \"Nevada\", \"New York\", \"Ohio\", \"Oklahoma\", \"Oregon\", \"Pennsylvania\", \"Rhode Island\", \"South Carolina\", \"South Dakota\", \"Tennessee\", \"Texas\", \"Utah\", \"Virginia\", \"Vermont\", \"Washington\", \"Wisconsin\", \"West Virginia\", \"Wyoming\"]\n",
    "zones = ['HST','AKST', 'PST','MST', 'CST', 'EST']\n",
    "# timezone to abbr map\n",
    "abbr_map = {'America/Anchorage': 'AKST', 'America/Phoenix': 'MST', 'America/Denver': 'MST', 'Pacific/Honolulu': 'HST', 'America/New_York': 'EST', 'America/North_Dakota/Center': 'CST', 'America/Los_Angeles': 'PST', 'America/Chicago': 'CST', 'America/Indiana/Indianapolis': 'EST'}\n",
    "\n",
    "# create mapping of state to timezone\n",
    "timezone_map = dict()\n",
    "\n",
    "# build timezone_map of state to timezone name\n",
    "for state in states:\n",
    "    s = us.states.lookup(state)\n",
    "    timezone_map[state] = abbr_map[s.capital_tz]\n",
    "\n",
    "print(timezone_map)\n",
    "print(set(timezone_map.values()))\n"
   ]
  },
  {
   "cell_type": "code",
   "execution_count": 9,
   "metadata": {},
   "outputs": [],
   "source": [
    "# load dataset from mysql\n",
    "# Connect to the database\n",
    "connection = pymysql.connect(host='localhost',\n",
    "                             user='root',\n",
    "                             password='Qawsedrftg9!',\n",
    "                             db='reddit_data',\n",
    "                             charset='utf8mb4',\n",
    "                             cursorclass=pymysql.cursors.DictCursor)\n",
    "\n",
    "\n",
    "# load users and cleaned tables\n",
    "with connection.cursor() as cursor:\n",
    "    sql = \"SELECT * FROM `users`\"\n",
    "    cursor.execute(sql)\n",
    "    users_rows = cursor.fetchall()\n",
    "    sql = \"SELECT username, timestamp_arr FROM `cleaned`\"\n",
    "    cursor.execute(sql)\n",
    "    cleaned_rows = cursor.fetchall()"
   ]
  },
  {
   "cell_type": "code",
   "execution_count": 10,
   "metadata": {},
   "outputs": [],
   "source": [
    "# create mapping of username -> state"
   ]
  },
  {
   "cell_type": "code",
   "execution_count": 11,
   "metadata": {},
   "outputs": [
    {
     "name": "stdout",
     "output_type": "stream",
     "text": [
      "Created mapping of 69247 users to 51 states\n"
     ]
    }
   ],
   "source": [
    "# create mapping of username -> state\n",
    "loc_table = dict()\n",
    "for row in users_rows:\n",
    "    loc = row['location']\n",
    "    \n",
    "    if loc not in states:\n",
    "        # discard\n",
    "        continue\n",
    "    else:\n",
    "        loc_table[row['username']] = loc\n",
    "\n",
    "print(\"Created mapping of %d users to %d states\" % (len(loc_table), len(set(loc_table.values()))))"
   ]
  },
  {
   "cell_type": "code",
   "execution_count": 28,
   "metadata": {},
   "outputs": [
    {
     "name": "stdout",
     "output_type": "stream",
     "text": [
      "Processed 0 entries\n",
      "Processed 10000 entries\n",
      "Processed 20000 entries\n",
      "Processed 30000 entries\n",
      "Processed 50000 entries\n",
      "Processed 60000 entries\n",
      "Processed 70000 entries\n"
     ]
    }
   ],
   "source": [
    "# create dataset\n",
    "X = []\n",
    "y = []\n",
    "\n",
    "# extract data from rows\n",
    "for i in range(len(cleaned_rows)):\n",
    "    row = cleaned_rows[i]\n",
    "    \n",
    "    # convert to int list\n",
    "    times = json.loads(row['timestamp_arr'].replace(\"\\'\", \"\\\"\"))\n",
    "    times = np.array(times).astype(np.float)\n",
    "    \n",
    "    # discard non-US entries\n",
    "    username = row['username']\n",
    "    if(username == '[deleted]') or username not in loc_table:\n",
    "        continue\n",
    "        \n",
    "    zone = timezone_map[loc_table[username]]\n",
    "    # normalize time vector\n",
    "    times = times / np.linalg.norm(times)\n",
    "\n",
    "    X.append(times)\n",
    "    y.append(zone)\n",
    "    \n",
    "    if(i%10000 == 0):\n",
    "        print(\"Processed %d entries\" % i)"
   ]
  },
  {
   "cell_type": "code",
   "execution_count": 34,
   "metadata": {},
   "outputs": [
    {
     "data": {
      "image/png": "[encoded data removed]",
      "text/plain": [
       "<Figure size 432x288 with 1 Axes>"
      ]
     },
     "metadata": {
      "needs_background": "light"
     },
     "output_type": "display_data"
    }
   ],
   "source": [
    "# for each timezone, sum up vector and graph\n",
    "sum_table = dict()\n",
    "count_table = dict()\n",
    "for zone in zones:\n",
    "    sum_table[zone] = np.zeros(144)\n",
    "    count_table[zone] = 0\n",
    "\n",
    "for (i, x) in enumerate(X):\n",
    "    sum_table[y[i]] += x\n",
    "    count_table[y[i]] += 1\n",
    "    \n",
    "for zone in zones:\n",
    "    # average each timezone's sum by number of occurrences\n",
    "    sum_table[zone] /= count_table[zone]\n",
    "    plt.plot(range(144), sum_table[zone])"
   ]
  },
  {
   "cell_type": "code",
   "execution_count": 35,
   "metadata": {},
   "outputs": [
    {
     "name": "stdout",
     "output_type": "stream",
     "text": [
      "Using 51934 entries for training, 17312 for test\n"
     ]
    }
   ],
   "source": [
    "# split data into training and test\n",
    "assert(len(X) == len(y))\n",
    "l = 3 * len(y) // 4\n",
    "X_train, X_test = X[0:l], X[l:]\n",
    "y_train, y_test = y[0:l], y[l:]\n",
    "\n",
    "print(\"Using %d entries for training, %d for test\" % (len(X_train), len(X_test)))"
   ]
  },
  {
   "cell_type": "code",
   "execution_count": 42,
   "metadata": {},
   "outputs": [
    {
     "data": {
      "text/plain": [
       "LogisticRegression(max_iter=10000000)"
      ]
     },
     "execution_count": 42,
     "metadata": {},
     "output_type": "execute_result"
    }
   ],
   "source": [
    "# run logistical regression\n",
    "log_reg = LogisticRegression(max_iter=10000000)\n",
    "log_reg.fit(X_train, y_train)"
   ]
  },
  {
   "cell_type": "code",
   "execution_count": 50,
   "metadata": {},
   "outputs": [
    {
     "name": "stdout",
     "output_type": "stream",
     "text": [
      "['EST']\n",
      "0.48151571164510165\n"
     ]
    }
   ],
   "source": [
    "score = log_reg.score(X_test, y_test)\n",
    "\n",
    "print(log_reg.predict(X_test[1].reshape(1,-1)))\n",
    "print(score)"
   ]
  },
  {
   "cell_type": "code",
   "execution_count": 39,
   "metadata": {},
   "outputs": [
    {
     "name": "stdout",
     "output_type": "stream",
     "text": [
      "Hi\n"
     ]
    },
    {
     "ename": "TypeError",
     "evalue": "__init__() got an unexpected keyword argument 'verbose'",
     "output_type": "error",
     "traceback": [
      "\u001b[0;31m---------------------------------------------------------------------------\u001b[0m",
      "\u001b[0;31mTypeError\u001b[0m                                 Traceback (most recent call last)",
      "\u001b[0;32m<ipython-input-39-f76c63027201>\u001b[0m in \u001b[0;36m<module>\u001b[0;34m\u001b[0m\n\u001b[1;32m     22\u001b[0m \u001b[0;34m\u001b[0m\u001b[0m\n\u001b[1;32m     23\u001b[0m \u001b[0mprint\u001b[0m\u001b[0;34m(\u001b[0m\u001b[0;34m\"Hi\"\u001b[0m\u001b[0;34m)\u001b[0m\u001b[0;34m\u001b[0m\u001b[0;34m\u001b[0m\u001b[0m\n\u001b[0;32m---> 24\u001b[0;31m \u001b[0mGaussianProcessClassifier\u001b[0m\u001b[0;34m(\u001b[0m\u001b[0mkernel\u001b[0m\u001b[0;34m,\u001b[0m \u001b[0mverbose\u001b[0m\u001b[0;34m=\u001b[0m\u001b[0;32mTrue\u001b[0m\u001b[0;34m)\u001b[0m\u001b[0;34m.\u001b[0m\u001b[0mfit\u001b[0m\u001b[0;34m(\u001b[0m\u001b[0mX_train\u001b[0m\u001b[0;34m,\u001b[0m \u001b[0my_train\u001b[0m\u001b[0;34m)\u001b[0m\u001b[0;34m\u001b[0m\u001b[0;34m\u001b[0m\u001b[0m\n\u001b[0m\u001b[1;32m     25\u001b[0m \u001b[0my_pred\u001b[0m \u001b[0;34m=\u001b[0m \u001b[0mclassifier\u001b[0m\u001b[0;34m.\u001b[0m\u001b[0mpredict\u001b[0m\u001b[0;34m(\u001b[0m\u001b[0mX_train\u001b[0m\u001b[0;34m)\u001b[0m\u001b[0;34m\u001b[0m\u001b[0;34m\u001b[0m\u001b[0m\n\u001b[1;32m     26\u001b[0m \u001b[0maccuracy\u001b[0m \u001b[0;34m=\u001b[0m \u001b[0maccuracy_score\u001b[0m\u001b[0;34m(\u001b[0m\u001b[0my_train\u001b[0m\u001b[0;34m,\u001b[0m \u001b[0my_pred\u001b[0m\u001b[0;34m)\u001b[0m\u001b[0;34m\u001b[0m\u001b[0;34m\u001b[0m\u001b[0m\n",
      "\u001b[0;32m/usr/local/lib/python3.9/site-packages/sklearn/utils/validation.py\u001b[0m in \u001b[0;36minner_f\u001b[0;34m(*args, **kwargs)\u001b[0m\n\u001b[1;32m     70\u001b[0m                           FutureWarning)\n\u001b[1;32m     71\u001b[0m         \u001b[0mkwargs\u001b[0m\u001b[0;34m.\u001b[0m\u001b[0mupdate\u001b[0m\u001b[0;34m(\u001b[0m\u001b[0;34m{\u001b[0m\u001b[0mk\u001b[0m\u001b[0;34m:\u001b[0m \u001b[0marg\u001b[0m \u001b[0;32mfor\u001b[0m \u001b[0mk\u001b[0m\u001b[0;34m,\u001b[0m \u001b[0marg\u001b[0m \u001b[0;32min\u001b[0m \u001b[0mzip\u001b[0m\u001b[0;34m(\u001b[0m\u001b[0msig\u001b[0m\u001b[0;34m.\u001b[0m\u001b[0mparameters\u001b[0m\u001b[0;34m,\u001b[0m \u001b[0margs\u001b[0m\u001b[0;34m)\u001b[0m\u001b[0;34m}\u001b[0m\u001b[0;34m)\u001b[0m\u001b[0;34m\u001b[0m\u001b[0;34m\u001b[0m\u001b[0m\n\u001b[0;32m---> 72\u001b[0;31m         \u001b[0;32mreturn\u001b[0m \u001b[0mf\u001b[0m\u001b[0;34m(\u001b[0m\u001b[0;34m**\u001b[0m\u001b[0mkwargs\u001b[0m\u001b[0;34m)\u001b[0m\u001b[0;34m\u001b[0m\u001b[0;34m\u001b[0m\u001b[0m\n\u001b[0m\u001b[1;32m     73\u001b[0m     \u001b[0;32mreturn\u001b[0m \u001b[0minner_f\u001b[0m\u001b[0;34m\u001b[0m\u001b[0;34m\u001b[0m\u001b[0m\n\u001b[1;32m     74\u001b[0m \u001b[0;34m\u001b[0m\u001b[0m\n",
      "\u001b[0;31mTypeError\u001b[0m: __init__() got an unexpected keyword argument 'verbose'"
     ]
    }
   ],
   "source": [
    "C = 10\n",
    "kernel = 1.0 * RBF(1.0)  # for GPC\n",
    "\n",
    "# Create different classifiers.\n",
    "classifiers = {\n",
    "    'L1 logistic': LogisticRegression(C=C, penalty='l1',\n",
    "                                      solver='saga',\n",
    "                                      multi_class='multinomial',\n",
    "                                      max_iter=10000),\n",
    "    'L2 logistic (Multinomial)': LogisticRegression(C=C, penalty='l2',\n",
    "                                                    solver='saga',\n",
    "                                                    multi_class='multinomial',\n",
    "                                                    max_iter=10000),\n",
    "    'L2 logistic (OvR)': LogisticRegression(C=C, penalty='l2',\n",
    "                                            solver='saga',\n",
    "                                            multi_class='ovr',\n",
    "                                            max_iter=10000),\n",
    "    'Linear SVC': SVC(kernel='linear', C=C, probability=True,\n",
    "                      random_state=0, gamma='auto'),\n",
    "    'GPC': GaussianProcessClassifier(kernel)\n",
    "}\n",
    "\n",
    "print(\"Hi\")\n",
    "GaussianProcessClassifier(verbose=True).fit(X_train, y_train)\n",
    "print(\"Done training\")\n",
    "y_pred = classifier.predict(X_train)\n",
    "accuracy = accuracy_score(y_train, y_pred)\n",
    "print(\"Accuracy (train) for %s: %0.1f%% \" % (name, accuracy * 100))"
   ]
  },
  {
   "cell_type": "code",
   "execution_count": null,
   "metadata": {},
   "outputs": [],
   "source": []
  }
 ],
 "metadata": {
  "kernelspec": {
   "display_name": "Python 3",
   "language": "python",
   "name": "python3"
  },
  "language_info": {
   "codemirror_mode": {
    "name": "ipython",
    "version": 3
   },
   "file_extension": ".py",
   "mimetype": "text/x-python",
   "name": "python",
   "nbconvert_exporter": "python",
   "pygments_lexer": "ipython3",
   "version": "3.9.0"
  }
 },
 "nbformat": 4,
 "nbformat_minor": 4
}
