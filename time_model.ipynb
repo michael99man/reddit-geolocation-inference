{
 "cells": [
  {
   "cell_type": "code",
   "execution_count": 1,
   "metadata": {},
   "outputs": [],
   "source": [
    "from sklearn.linear_model import LogisticRegression\n",
    "import numpy as np\n",
    "import matplotlib.pyplot as plt\n",
    "import pymysql.cursors\n",
    "from timezonefinder import TimezoneFinder\n",
    "import us\n",
    "import json\n",
    "from sklearn.gaussian_process.kernels import RBF\n",
    "from sklearn.svm import SVC\n",
    "from sklearn.gaussian_process import GaussianProcessClassifier\n",
    "from sklearn.metrics import accuracy_score\n",
    "from sklearn.cluster import KMeans"
   ]
  },
  {
   "cell_type": "code",
   "execution_count": 2,
   "metadata": {},
   "outputs": [
    {
     "name": "stdout",
     "output_type": "stream",
     "text": [
      "{'Alaska': 'AKST', 'Alabama': 'CST', 'Arkansas': 'CST', 'Arizona': 'MST', 'California': 'PST', 'Colorado': 'MST', 'Connecticut': 'EST', 'District of Columbia': 'EST', 'Delaware': 'EST', 'Florida': 'EST', 'Georgia': 'EST', 'Hawaii': 'HST', 'Iowa': 'CST', 'Idaho': 'MST', 'Illinois': 'CST', 'Indiana': 'EST', 'Kansas': 'CST', 'Kentucky': 'EST', 'Louisiana': 'CST', 'Massachusetts': 'EST', 'Maryland': 'EST', 'Maine': 'EST', 'Michigan': 'EST', 'Minnesota': 'CST', 'Missouri': 'CST', 'Mississippi': 'CST', 'Montana': 'MST', 'North Carolina': 'EST', 'North Dakota': 'CST', 'Nebraska': 'CST', 'New Hampshire': 'EST', 'New Jersey': 'EST', 'New Mexico': 'MST', 'Nevada': 'PST', 'New York': 'EST', 'Ohio': 'EST', 'Oklahoma': 'CST', 'Oregon': 'PST', 'Pennsylvania': 'EST', 'Rhode Island': 'EST', 'South Carolina': 'EST', 'South Dakota': 'CST', 'Tennessee': 'CST', 'Texas': 'CST', 'Utah': 'MST', 'Virginia': 'EST', 'Vermont': 'EST', 'Washington': 'PST', 'Wisconsin': 'CST', 'West Virginia': 'EST', 'Wyoming': 'MST'}\n",
      "{'CST', 'PST', 'MST', 'HST', 'EST', 'AKST'}\n"
     ]
    }
   ],
   "source": [
    "states = [\"Alaska\", \"Alabama\", \"Arkansas\", \"Arizona\", \"California\", \"Colorado\", \"Connecticut\", \"District of Columbia\", \"Delaware\", \"Florida\", \"Georgia\", \"Hawaii\", \"Iowa\", \"Idaho\", \"Illinois\", \"Indiana\", \"Kansas\", \"Kentucky\", \"Louisiana\", \"Massachusetts\", \"Maryland\", \"Maine\", \"Michigan\", \"Minnesota\", \"Missouri\", \"Mississippi\", \"Montana\", \"North Carolina\", \"North Dakota\", \"Nebraska\", \"New Hampshire\", \"New Jersey\", \"New Mexico\", \"Nevada\", \"New York\", \"Ohio\", \"Oklahoma\", \"Oregon\", \"Pennsylvania\", \"Rhode Island\", \"South Carolina\", \"South Dakota\", \"Tennessee\", \"Texas\", \"Utah\", \"Virginia\", \"Vermont\", \"Washington\", \"Wisconsin\", \"West Virginia\", \"Wyoming\"]\n",
    "zones = ['HST','AKST', 'PST','MST', 'CST', 'EST']\n",
    "# timezone to abbr map\n",
    "abbr_map = {'America/Anchorage': 'AKST', 'America/Phoenix': 'MST', 'America/Denver': 'MST', 'Pacific/Honolulu': 'HST', 'America/New_York': 'EST', 'America/North_Dakota/Center': 'CST', 'America/Los_Angeles': 'PST', 'America/Chicago': 'CST', 'America/Indiana/Indianapolis': 'EST'}\n",
    "\n",
    "# create mapping of state to timezone\n",
    "timezone_map = dict()\n",
    "\n",
    "# build timezone_map of state to timezone name\n",
    "for state in states:\n",
    "    s = us.states.lookup(state)\n",
    "    timezone_map[state] = abbr_map[s.capital_tz]\n",
    "\n",
    "print(timezone_map)\n",
    "print(set(timezone_map.values()))\n"
   ]
  },
  {
   "cell_type": "code",
   "execution_count": 3,
   "metadata": {},
   "outputs": [],
   "source": [
    "# load dataset from mysql\n",
    "# Connect to the database\n",
    "connection = pymysql.connect(host='localhost',\n",
    "                             user='root',\n",
    "                             password='Qawsedrftg9!',\n",
    "                             db='reddit_data',\n",
    "                             charset='utf8mb4',\n",
    "                             cursorclass=pymysql.cursors.DictCursor)\n",
    "\n",
    "\n",
    "# load users and cleaned tables\n",
    "with connection.cursor() as cursor:\n",
    "    sql = \"SELECT * FROM `users`\"\n",
    "    cursor.execute(sql)\n",
    "    users_rows = cursor.fetchall()\n",
    "    sql = \"SELECT username, timestamp_arr FROM `cleaned`\"\n",
    "    cursor.execute(sql)\n",
    "    cleaned_rows = cursor.fetchall()"
   ]
  },
  {
   "cell_type": "code",
   "execution_count": 6,
   "metadata": {},
   "outputs": [
    {
     "name": "stdout",
     "output_type": "stream",
     "text": [
      "Created mapping of 69247 users to 51 states\n"
     ]
    }
   ],
   "source": [
    "# create mapping of username -> state\n",
    "loc_table = dict()\n",
    "for row in users_rows:\n",
    "    loc = row['location']\n",
    "    \n",
    "    if loc not in states:\n",
    "        # discard\n",
    "        continue\n",
    "    else:\n",
    "        loc_table[row['username']] = loc\n",
    "\n",
    "print(\"Created mapping of %d users to %d states\" % (len(loc_table), len(set(loc_table.values()))))"
   ]
  },
  {
   "cell_type": "code",
   "execution_count": 67,
   "metadata": {},
   "outputs": [
    {
     "name": "stdout",
     "output_type": "stream",
     "text": [
      "Processed 0 entries\n",
      "Processed 10000 entries\n",
      "Processed 20000 entries\n",
      "Processed 30000 entries\n",
      "Processed 50000 entries\n",
      "Processed 60000 entries\n",
      "Processed 70000 entries\n"
     ]
    }
   ],
   "source": [
    "# create dataset\n",
    "X = []\n",
    "y = []\n",
    "usernames = []\n",
    "\n",
    "# extract data from rows\n",
    "for i in range(len(cleaned_rows)):\n",
    "    row = cleaned_rows[i]\n",
    "    \n",
    "    # convert to int list\n",
    "    times = json.loads(row['timestamp_arr'].replace(\"\\'\", \"\\\"\"))\n",
    "    times = np.array(times).astype(np.float)\n",
    "    \n",
    "    # discard non-US entries\n",
    "    username = row['username']\n",
    "    if(username == '[deleted]') or username not in loc_table:\n",
    "        continue\n",
    "        \n",
    "    zone = timezone_map[loc_table[username]]\n",
    "    # normalize time vector\n",
    "    times = times / np.linalg.norm(times)\n",
    "\n",
    "    X.append(times)\n",
    "    y.append(zone)\n",
    "    usernames.append(username)\n",
    "    \n",
    "    if(i%10000 == 0):\n",
    "        print(\"Processed %d entries\" % i)"
   ]
  },
  {
   "cell_type": "code",
   "execution_count": 8,
   "metadata": {},
   "outputs": [
    {
     "data": {
      "image/png": "[encoded data removed]",
      "text/plain": [
       "<Figure size 432x288 with 1 Axes>"
      ]
     },
     "metadata": {
      "needs_background": "light"
     },
     "output_type": "display_data"
    }
   ],
   "source": [
    "# for each timezone, sum up vector and graph\n",
    "sum_table = dict()\n",
    "count_table = dict()\n",
    "for zone in zones:\n",
    "    sum_table[zone] = np.zeros(144)\n",
    "    count_table[zone] = 0\n",
    "\n",
    "for (i, x) in enumerate(X):\n",
    "    sum_table[y[i]] += x\n",
    "    count_table[y[i]] += 1\n",
    "    \n",
    "for zone in zones:\n",
    "    # average each timezone's sum by number of occurrences\n",
    "    sum_table[zone] /= count_table[zone]\n",
    "    plt.plot(range(144), sum_table[zone])"
   ]
  },
  {
   "cell_type": "code",
   "execution_count": 9,
   "metadata": {},
   "outputs": [
    {
     "name": "stdout",
     "output_type": "stream",
     "text": [
      "Using 23082 entries for training, 46164 for test\n"
     ]
    }
   ],
   "source": [
    "# split data into training and test\n",
    "assert(len(X) == len(y))\n",
    "l = 1 * len(y) // 3\n",
    "X_train, X_test = np.array(X[0:l]), np.array(X[l:])\n",
    "y_train, y_test = np.array(y[0:l]), np.array(y[l:])\n",
    "\n",
    "print(\"Using %d entries for training, %d for test\" % (len(X_train), len(X_test)))"
   ]
  },
  {
   "cell_type": "code",
   "execution_count": 21,
   "metadata": {},
   "outputs": [
    {
     "name": "stderr",
     "output_type": "stream",
     "text": [
      "[Parallel(n_jobs=10)]: Using backend LokyBackend with 10 concurrent workers.\n",
      "[Parallel(n_jobs=10)]: Done   1 out of   1 | elapsed:    7.5s finished\n"
     ]
    },
    {
     "data": {
      "text/plain": [
       "LogisticRegression(C=1.0, class_weight=None, dual=False, fit_intercept=True,\n",
       "                   intercept_scaling=1, l1_ratio=None, max_iter=10000000,\n",
       "                   multi_class='multinomial', n_jobs=10, penalty='l2',\n",
       "                   random_state=None, solver='lbfgs', tol=0.0001, verbose=True,\n",
       "                   warm_start=False)"
      ]
     },
     "execution_count": 21,
     "metadata": {},
     "output_type": "execute_result"
    }
   ],
   "source": [
    "# run logistical regression\n",
    "log_reg = LogisticRegression(max_iter=10000000, class_weight=None, multi_class='multinomial', verbose=True, n_jobs=10)\n",
    "log_reg.fit(X_train, y_train)"
   ]
  },
  {
   "cell_type": "code",
   "execution_count": 63,
   "metadata": {},
   "outputs": [],
   "source": [
    "def top_two_perf(X_test_prob, y_test):\n",
    "    c_1 = 0\n",
    "    c_2 = 0\n",
    "    for i, prob in enumerate(X_test_prob):\n",
    "        top_2 = sorted(range(len(prob)), key=lambda i: prob[i])[-2:]\n",
    "        if(log_reg.classes_[top_2[1]] == y_test[i]):\n",
    "            c_1 += 1\n",
    "            c_2 += 1\n",
    "        elif(log_reg.classes_[top_2[0]] == y_test[i]):\n",
    "            c_2 += 1\n",
    "\n",
    "    print(c_1, c_2, len(X_test))"
   ]
  },
  {
   "cell_type": "code",
   "execution_count": 35,
   "metadata": {},
   "outputs": [
    {
     "name": "stdout",
     "output_type": "stream",
     "text": [
      "0.4843601074430292\n",
      "['AKST' 'CST' 'EST' 'HST' 'MST' 'PST']\n"
     ]
    }
   ],
   "source": [
    "score = log_reg.score(X_test, y_test)\n",
    "print(score)"
   ]
  },
  {
   "cell_type": "code",
   "execution_count": 58,
   "metadata": {},
   "outputs": [],
   "source": []
  },
  {
   "cell_type": "code",
   "execution_count": 59,
   "metadata": {},
   "outputs": [
    {
     "name": "stdout",
     "output_type": "stream",
     "text": [
      "[LibSVM]"
     ]
    }
   ],
   "source": [
    "# We use OneVsRestClassifier for multi-label prediction\n",
    "from sklearn.multiclass import OneVsRestClassifier\n",
    "from sklearn import svm\n",
    "\n",
    "kernel = 1.0 * RBF(1.0)\n",
    "\n",
    "# Run classifier\n",
    "classifier = svm.SVC(random_state=0, verbose=1, kernel=kernel, probability=True)\n",
    "classifier.fit(X_train, y_train)\n",
    "y_score = classifier.decision_function(X_test)"
   ]
  },
  {
   "cell_type": "code",
   "execution_count": 62,
   "metadata": {},
   "outputs": [
    {
     "name": "stdout",
     "output_type": "stream",
     "text": [
      "0.4919850966120787\n",
      "0.4860280738237588\n"
     ]
    }
   ],
   "source": [
    "print(classifier.score(X_train, y_train))\n",
    "print(classifier.score(X_test, y_test))"
   ]
  },
  {
   "cell_type": "code",
   "execution_count": 68,
   "metadata": {},
   "outputs": [
    {
     "name": "stdout",
     "output_type": "stream",
     "text": [
      "22903 35676 46164\n",
      "22360 35296 46164\n"
     ]
    }
   ],
   "source": [
    "# print how many top 2 predictions are correct\n",
    "X_test_prob_svc = classifier.predict_proba(X_test)\n",
    "top_two_perf(X_test_prob_svc, y_test)\n",
    "\n",
    "X_test_prob_reg = log_reg.predict_proba(X_test)\n",
    "top_two_perf(X_test_prob_reg, y_test)"
   ]
  },
  {
   "cell_type": "code",
   "execution_count": 69,
   "metadata": {},
   "outputs": [],
   "source": [
    "# save models\n",
    "import pickle\n",
    "pickle.dump(classifier, open(\"svc.model\", 'wb'))\n",
    "pickle.dump(log_reg, open(\"log_reg.model\", 'wb'))"
   ]
  },
  {
   "cell_type": "code",
   "execution_count": 70,
   "metadata": {},
   "outputs": [],
   "source": [
    "# save probability vectors as map of username -> vector\n",
    "table = dict()\n",
    "X_prob = classifier.predict_proba(X)\n",
    "\n",
    "for i in range(len(X)):\n",
    "    table[usernames[i]] = X_prob[i]\n",
    "\n",
    "pickle.dump(table, open(\"prob_vectors.time\", 'wb'))"
   ]
  },
  {
   "cell_type": "code",
   "execution_count": 72,
   "metadata": {},
   "outputs": [
    {
     "name": "stdout",
     "output_type": "stream",
     "text": [
      "69246\n"
     ]
    }
   ],
   "source": []
  },
  {
   "cell_type": "code",
   "execution_count": null,
   "metadata": {},
   "outputs": [],
   "source": []
  }
 ],
 "metadata": {
  "kernelspec": {
   "display_name": "Python 3",
   "language": "python",
   "name": "python3"
  },
  "language_info": {
   "codemirror_mode": {
    "name": "ipython",
    "version": 3
   },
   "file_extension": ".py",
   "mimetype": "text/x-python",
   "name": "python",
   "nbconvert_exporter": "python",
   "pygments_lexer": "ipython3",
   "version": "3.7.9"
  }
 },
 "nbformat": 4,
 "nbformat_minor": 4
}
