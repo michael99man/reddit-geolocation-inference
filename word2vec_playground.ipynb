{
 "cells": [
  {
   "cell_type": "code",
   "execution_count": 10,
   "metadata": {},
   "outputs": [
    {
     "name": "stderr",
     "output_type": "stream",
     "text": [
      "INFO - 19:50:43: loading Word2VecKeyedVectors object from ./models/full.model\n",
      "INFO - 19:50:43: loading wv recursively from ./models/full.model.wv.* with mmap=None\n",
      "INFO - 19:50:43: loading vectors from ./models/full.model.wv.vectors.npy with mmap=None\n",
      "INFO - 19:50:43: setting ignored attribute vectors_norm to None\n",
      "INFO - 19:50:43: loading vocabulary recursively from ./models/full.model.vocabulary.* with mmap=None\n",
      "INFO - 19:50:43: loading trainables recursively from ./models/full.model.trainables.* with mmap=None\n",
      "INFO - 19:50:43: loading syn1neg from ./models/full.model.trainables.syn1neg.npy with mmap=None\n",
      "INFO - 19:50:43: setting ignored attribute cum_table to None\n",
      "INFO - 19:50:43: loaded ./models/full.model\n"
     ]
    }
   ],
   "source": [
    "from gensim.models import KeyedVectors\n",
    "from featurization.word2vec import EpochSaver\n",
    "\n",
    "# load word2vec model\n",
    "model = KeyedVectors.load('./models/full.model')"
   ]
  },
  {
   "cell_type": "code",
   "execution_count": 9,
   "metadata": {},
   "outputs": [
    {
     "name": "stderr",
     "output_type": "stream",
     "text": [
      "/home/ec2-user/anaconda3/lib/python3.7/site-packages/ipykernel_launcher.py:1: DeprecationWarning: Call to deprecated `most_similar` (Method will be removed in 4.0.0, use self.wv.most_similar() instead).\n",
      "  \"\"\"Entry point for launching an IPython kernel.\n"
     ]
    },
    {
     "data": {
      "text/plain": [
       "[('dakotan', 0.6721921563148499),\n",
       " ('montana', 0.6562317609786987),\n",
       " ('dakotas', 0.6557627320289612),\n",
       " ('wyoming', 0.6556988954544067),\n",
       " ('carolina', 0.6359601020812988),\n",
       " ('idaho', 0.6279103755950928),\n",
       " ('minnesota', 0.6186631917953491),\n",
       " ('nebraska', 0.6175644397735596),\n",
       " ('dakotans', 0.6158339977264404),\n",
       " ('iowa', 0.5978784561157227)]"
      ]
     },
     "execution_count": 9,
     "metadata": {},
     "output_type": "execute_result"
    }
   ],
   "source": [
    "model.most_similar(\"dakota\")"
   ]
  },
  {
   "cell_type": "code",
   "execution_count": 7,
   "metadata": {},
   "outputs": [
    {
     "name": "stderr",
     "output_type": "stream",
     "text": [
      "/home/ec2-user/anaconda3/lib/python3.7/site-packages/ipykernel_launcher.py:1: DeprecationWarning: Call to deprecated `similarity` (Method will be removed in 4.0.0, use self.wv.similarity() instead).\n",
      "  \"\"\"Entry point for launching an IPython kernel.\n"
     ]
    },
    {
     "data": {
      "text/plain": [
       "0.27498382"
      ]
     },
     "execution_count": 7,
     "metadata": {},
     "output_type": "execute_result"
    }
   ],
   "source": [
    "model.similarity(\"car\", \"that\")"
   ]
  },
  {
   "cell_type": "code",
   "execution_count": null,
   "metadata": {},
   "outputs": [],
   "source": []
  }
 ],
 "metadata": {
  "kernelspec": {
   "display_name": "Python 3",
   "language": "python",
   "name": "python3"
  },
  "language_info": {
   "codemirror_mode": {
    "name": "ipython",
    "version": 3
   },
   "file_extension": ".py",
   "mimetype": "text/x-python",
   "name": "python",
   "nbconvert_exporter": "python",
   "pygments_lexer": "ipython3",
   "version": "3.7.9"
  }
 },
 "nbformat": 4,
 "nbformat_minor": 4
}
